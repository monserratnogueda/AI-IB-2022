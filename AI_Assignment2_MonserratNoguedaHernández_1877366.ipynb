{
  "nbformat": 4,
  "nbformat_minor": 0,
  "metadata": {
    "colab": {
      "provenance": [],
      "authorship_tag": "ABX9TyPREzBVhZlWEJzG/E5Obv57",
      "include_colab_link": true
    },
    "kernelspec": {
      "name": "python3",
      "display_name": "Python 3"
    },
    "language_info": {
      "name": "python"
    }
  },
  "cells": [
    {
      "cell_type": "markdown",
      "metadata": {
        "id": "view-in-github",
        "colab_type": "text"
      },
      "source": [
        "<a href=\"https://colab.research.google.com/github/monserratnogueda/AI-IB-2022/blob/main/AI_Assignment2_MonserratNoguedaHern%C3%A1ndez_1877366.ipynb\" target=\"_parent\"><img src=\"https://colab.research.google.com/assets/colab-badge.svg\" alt=\"Open In Colab\"/></a>"
      ]
    },
    {
      "cell_type": "code",
      "execution_count": null,
      "metadata": {
        "colab": {
          "base_uri": "https://localhost:8080/"
        },
        "id": "CmeS-rih61v8",
        "outputId": "afd00552-7417-4614-f102-aef899c935a4"
      },
      "outputs": [
        {
          "output_type": "stream",
          "name": "stdout",
          "text": [
            "A2:Phython excersises \n",
            "Monserrat Nogueda Hernández \n",
            "1877366 \n",
            "Thrusday N4\n"
          ]
        }
      ],
      "source": [
        "a=\"\"\"A2:Phython excersises \n",
        "Monserrat Nogueda Hernández \n",
        "1877366 \n",
        "Thrusday N4\"\"\"\n",
        "print(a)"
      ]
    },
    {
      "cell_type": "code",
      "source": [
        "name=input(\"Name: \")\n",
        "greeting=\"Hello\"\n",
        "a=\"Ana\"\n",
        "b=\"John\"\n",
        "c=\"Peter\"\n",
        "if(name != a):\n",
        "  if(name != b):\n",
        "    if(name != c):\n",
        "      print(greeting, name)\n",
        "        \n",
        "            \n",
        "\n"
      ],
      "metadata": {
        "colab": {
          "base_uri": "https://localhost:8080/"
        },
        "id": "koKrEspr8_B9",
        "outputId": "204b2e60-6a20-4559-f3ac-92a04ebfbbb4"
      },
      "execution_count": null,
      "outputs": [
        {
          "output_type": "stream",
          "name": "stdout",
          "text": [
            "Name: Monse\n",
            "Hello Monse\n"
          ]
        }
      ]
    },
    {
      "cell_type": "code",
      "source": [
        "from typing_extensions import reveal_type\n",
        "flavors=[\"chocolate\",\"vanilla\",\"strawberry\",\"mint\",\"cotton candy\",\"coffee\"]\n",
        "print(flavors[5])\n",
        "\n",
        "rev=list(reversed(flavors))\n",
        "print(rev[5])\n",
        "\n",
        "\n",
        "\n",
        "\n",
        "\n"
      ],
      "metadata": {
        "colab": {
          "base_uri": "https://localhost:8080/"
        },
        "id": "ehMFQstiCtMy",
        "outputId": "034ee66f-b8c8-4e57-c14b-ea77f93283ea"
      },
      "execution_count": 51,
      "outputs": [
        {
          "output_type": "stream",
          "name": "stdout",
          "text": [
            "coffee\n",
            "chocolate\n"
          ]
        }
      ]
    },
    {
      "cell_type": "code",
      "source": [
        "flavors=[\"chocolate\",\"vanilla\",\"strawberry\",\"mint\",\"cotton candy\",\"coffee\"]\n",
        "print(flavors[5])\n",
        "\n",
        "rev=flavors[::-1]\n",
        "print(rev[5])"
      ],
      "metadata": {
        "colab": {
          "base_uri": "https://localhost:8080/"
        },
        "id": "506Rniw5IDYR",
        "outputId": "cf1e1842-c1fb-4222-8d43-8236aafdfbb6"
      },
      "execution_count": 54,
      "outputs": [
        {
          "output_type": "stream",
          "name": "stdout",
          "text": [
            "coffee\n",
            "chocolate\n"
          ]
        }
      ]
    },
    {
      "cell_type": "code",
      "source": [
        "name=input(\"Name: \")\n",
        "lastname=input(\"Last name: \")\n",
        "age=input(\"Age: \")\n",
        "height=input(\"Height: \")\n",
        "weight=input(\"Weight: \")\n",
        "\n",
        "a=len(name)\n",
        "b=len(lastname)\n",
        "c=len(age)\n",
        "d=len(height)\n",
        "e=len(weight)\n",
        " \n",
        "\n",
        "if(a>b):\n",
        "  size=a+4\n",
        "else:\n",
        "  size=b+4\n",
        "\n",
        "print(\"*\"*size)\n",
        "if(a<size):\n",
        "    f=size-a\n",
        "    g =int(f/2)-1\n",
        "    print(\"*\"+\" \"*(g)+name+\" \"*(g)+\"*\")\n",
        "if(b<size):\n",
        "    h=size-b\n",
        "    i =int(h/2)-1\n",
        "    print(\"*\"+\" \"*(i)+lastname+\" \"*(i)+\"*\")\n",
        "if(c<size):\n",
        "    j=size-c\n",
        "    k =int(j/2)\n",
        "    print(\"*\"+\" \"*(k)+age+\" \"*(k-1)+\"*\")\n",
        "if(d<size):\n",
        "    l=size-d\n",
        "    m =int(l/2)-1\n",
        "    print(\"*\"+\" \"*(m)+height+\" \"*(m)+\"*\")\n",
        "if(e<size):\n",
        "    n=size-e\n",
        "    o =int(n/2)\n",
        "    print(\"*\"+\" \"*(o)+weight+\" \"*(o-1)+\"*\")\n",
        "print(\"*\"*size)\n",
        "  \n",
        "\n",
        "    \n",
        "\n"
      ],
      "metadata": {
        "colab": {
          "base_uri": "https://localhost:8080/"
        },
        "id": "NHLOMz_vJrTQ",
        "outputId": "0e743af6-e416-48bd-c932-b2949c8f2b8e"
      },
      "execution_count": 115,
      "outputs": [
        {
          "output_type": "stream",
          "name": "stdout",
          "text": [
            "Name: Monserrat\n",
            "Last name: Nogueda\n",
            "Age: 21\n",
            "Height: 170\n",
            "Weight: 60\n",
            "*************\n",
            "* Monserrat *\n",
            "*  Nogueda  *\n",
            "*     21    *\n",
            "*    170    *\n",
            "*     60    *\n",
            "*************\n"
          ]
        }
      ]
    }
  ]
}